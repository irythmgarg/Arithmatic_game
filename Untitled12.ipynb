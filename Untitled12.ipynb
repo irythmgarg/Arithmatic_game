{
  "nbformat": 4,
  "nbformat_minor": 0,
  "metadata": {
    "colab": {
      "provenance": [],
      "authorship_tag": "ABX9TyOgWLo9GIwVONzM/lIC3eOa",
      "include_colab_link": true
    },
    "kernelspec": {
      "name": "python3",
      "display_name": "Python 3"
    },
    "language_info": {
      "name": "python"
    }
  },
  "cells": [
    {
      "cell_type": "markdown",
      "metadata": {
        "id": "view-in-github",
        "colab_type": "text"
      },
      "source": [
        "<a href=\"https://colab.research.google.com/github/irythmgarg/Arithmatic_game/blob/main/Untitled12.ipynb\" target=\"_parent\"><img src=\"https://colab.research.google.com/assets/colab-badge.svg\" alt=\"Open In Colab\"/></a>"
      ]
    },
    {
      "cell_type": "markdown",
      "source": [
        "#                          ***ARITHMETIC GAME***"
      ],
      "metadata": {
        "id": "e16BrTPlnpzc"
      }
    },
    {
      "cell_type": "code",
      "execution_count": 1,
      "metadata": {
        "id": "c-0OH8R1h8Sm"
      },
      "outputs": [],
      "source": [
        "#We create a Game class, which generates a number of arithmetic questions randomly.\n",
        "#The player answers them, and the program records the number of correct answers and the time spent on the game.\n",
        "\n",
        "\n",
        "import random as r # import random library\n",
        "import time as t # import time library\n"
      ]
    },
    {
      "cell_type": "code",
      "source": [],
      "metadata": {
        "id": "ZMEvJCArnzW9"
      },
      "execution_count": null,
      "outputs": []
    },
    {
      "cell_type": "code",
      "source": [
        "class ArithmeticGame: # Make a class for arithmatic Game\n",
        "  def __init__(self,num):  # constructor to initialize the number of questions\n",
        "    self.num = num;\n",
        "  def generate_question(self):# function to generate the questions\n",
        "    operand1= r.randint(1,101); # randomly generate operand 1\n",
        "    operand2= r.randint(1,101); #randomly generate operator 2\n",
        "    operator_list=[\"+\",\"-\",\"*\",\"/\"]; # lists of the valid available operators\n",
        "    operator=r.choice(operator_list); # randomly chooses a operator\n",
        "    if operator==\"+\": # if it is +\n",
        "      answer=operand1+operand2;\n",
        "    elif operator==\"-\":# if it is -\n",
        "      answer=operand1-operand2;\n",
        "    elif operator==\"/\": # if it is /\n",
        "      answer=operand1//operand2;\n",
        "    else: # if it is *\n",
        "      answer=operand1*operand2;\n",
        "    question=(str(operand1) +\" \"+ operator + \" \"+str(operand2) ); # question to be displayed\n",
        "    return question , answer; #returning the question and the answer\n",
        "\n",
        "  def play(self): # function to start the game\n",
        "    score=0; # initial score is zero\n",
        "    time_start=t.time(); # time starts now\n",
        "    for i in range(self.num): # number of questions\n",
        "      question,answer=self.generate_question(); # call question generating function to generate the questions randomly\n",
        "      print(question); # print the question\n",
        "      userans=int(input(\"Please Enter Your answer :    \")); # get user's answer\n",
        "      if(userans==answer): # if it is correct\n",
        "        print(\"your answer is correct\");\n",
        "        score+=1; # score is increased\n",
        "      else: # if it is wrong\n",
        "       print(\"your answer is wrong \");\n",
        "       print(\"right answer is  \"+str(answer));\n",
        "    time_end=t.time(); # time ended\n",
        "    print(\"your score is \"+str(score)); # display score\n",
        "    print(\"your time is \"+str(time_end-time_start)); # show total time taken\n",
        "\n",
        "\n",
        "hlo=ArithmeticGame(4);\n",
        "hlo.play();\n"
      ],
      "metadata": {
        "colab": {
          "base_uri": "https://localhost:8080/"
        },
        "id": "5ajh8M83iKxd",
        "outputId": "c8c522e9-fa3c-41b6-daa6-14c969e164ea"
      },
      "execution_count": 7,
      "outputs": [
        {
          "output_type": "stream",
          "name": "stdout",
          "text": [
            "48 * 60\n",
            "Please Enter Your answer :    2880\n",
            "your answer is correct\n",
            "19 + 37\n",
            "Please Enter Your answer :    56\n",
            "your answer is correct\n",
            "52 - 93\n",
            "Please Enter Your answer :    -41\n",
            "your answer is correct\n",
            "99 + 28\n",
            "Please Enter Your answer :    127\n",
            "your answer is correct\n",
            "your score is 4\n",
            "your time is 34.00181579589844\n"
          ]
        }
      ]
    }
  ]
}